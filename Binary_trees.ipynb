{
  "nbformat": 4,
  "nbformat_minor": 0,
  "metadata": {
    "colab": {
      "provenance": [],
      "gpuType": "T4"
    },
    "kernelspec": {
      "name": "python3",
      "display_name": "Python 3"
    },
    "language_info": {
      "name": "python"
    },
    "accelerator": "GPU"
  },
  "cells": [
    {
      "cell_type": "code",
      "execution_count": 1,
      "metadata": {
        "id": "ZUTYfmKMn0m0"
      },
      "outputs": [],
      "source": [
        "# Binary Trees\n",
        "\n",
        "class TreeNode:\n",
        "  def __init__(self,val,left=None,right=None):\n",
        "    self.val=val\n",
        "    self.left=left\n",
        "    self.right=right\n",
        "\n",
        "  def __str__(self):\n",
        "    return str(self.val)"
      ]
    },
    {
      "cell_type": "code",
      "source": [
        "A=TreeNode(1)\n",
        "B=TreeNode(2)\n",
        "C=TreeNode(3)\n",
        "D=TreeNode(4)\n",
        "E=TreeNode(5)\n",
        "\n",
        "A.left=B\n",
        "A.right=C\n",
        "B.left=D\n",
        "B.right=E"
      ],
      "metadata": {
        "id": "lDrbe9_do6g5"
      },
      "execution_count": 2,
      "outputs": []
    },
    {
      "cell_type": "code",
      "source": [
        "print(A)"
      ],
      "metadata": {
        "colab": {
          "base_uri": "https://localhost:8080/"
        },
        "id": "VkSATFj5pSny",
        "outputId": "5313577d-643b-45c4-9bb2-b2eed61d6cfa"
      },
      "execution_count": 3,
      "outputs": [
        {
          "output_type": "stream",
          "name": "stdout",
          "text": [
            "1\n"
          ]
        }
      ]
    },
    {
      "cell_type": "code",
      "source": [
        "recursive pre order traversal (DFS) O(n) T.C and space O(n)"
      ],
      "metadata": {
        "id": "v6iuen99pZHf"
      },
      "execution_count": null,
      "outputs": []
    },
    {
      "cell_type": "code",
      "source": [
        "def  pre_order(node):\n",
        "  if not node:\n",
        "    return\n",
        "  print(node)\n",
        "  pre_order(node.left)\n",
        "  pre_order(node.right)\n",
        "pre_order(A)"
      ],
      "metadata": {
        "colab": {
          "base_uri": "https://localhost:8080/"
        },
        "id": "wowBb99jphXI",
        "outputId": "c0735444-1819-4f5f-922f-a87a1f38b6db"
      },
      "execution_count": 5,
      "outputs": [
        {
          "output_type": "stream",
          "name": "stdout",
          "text": [
            "1\n",
            "2\n",
            "4\n",
            "5\n",
            "3\n"
          ]
        }
      ]
    },
    {
      "cell_type": "code",
      "source": [
        "def in_order(node):\n",
        "  if node is None:\n",
        "    return\n",
        "  in_order(node.left)\n",
        "  print(node)\n",
        "  in_order(node.right)\n",
        "in_order(A)"
      ],
      "metadata": {
        "colab": {
          "base_uri": "https://localhost:8080/"
        },
        "id": "hALsCblrqAGv",
        "outputId": "6e0ca254-6cfe-4b4b-9baf-ceb73133f129"
      },
      "execution_count": 9,
      "outputs": [
        {
          "output_type": "stream",
          "name": "stdout",
          "text": [
            "4\n",
            "2\n",
            "5\n",
            "1\n",
            "3\n"
          ]
        }
      ]
    },
    {
      "cell_type": "code",
      "source": [
        "# Iterative pre order traversal (DFS) Time : o(n),space:o(n)\n",
        "def pre_order_iterative(node):\n",
        "  st=[node]\n",
        "\n",
        "  while st:\n",
        "    node=st.pop()\n",
        "    print(node)\n",
        "\n",
        "    if node.right:\n",
        "      st.append(node.right)\n",
        "    if node.left:\n",
        "      st.append(node.left)\n",
        "pre_order_iterative(A)"
      ],
      "metadata": {
        "colab": {
          "base_uri": "https://localhost:8080/"
        },
        "id": "8WEmWgA0qQiK",
        "outputId": "419bdf9a-c630-46b3-b1b3-01051fbd8d18"
      },
      "execution_count": 10,
      "outputs": [
        {
          "output_type": "stream",
          "name": "stdout",
          "text": [
            "1\n",
            "2\n",
            "4\n",
            "5\n",
            "3\n"
          ]
        }
      ]
    },
    {
      "cell_type": "code",
      "source": [
        "# Iterative pre order traversal (DFS) Time : o(n),space:o(n)\n",
        "def pre_order_iterative(node):\n",
        "  st=[node]\n",
        "\n",
        "  while st:\n",
        "    node=st.pop()\n",
        "    if node.right:\n",
        "      st.append(node.right)\n",
        "    print(node)\n",
        "\n",
        "    if node.left:\n",
        "      st.append(node.left)\n",
        "pre_order_iterative(A)"
      ],
      "metadata": {
        "colab": {
          "base_uri": "https://localhost:8080/"
        },
        "id": "s3hpKhhQq5I0",
        "outputId": "badb1296-afa7-4471-d6df-0911ec2ccd72"
      },
      "execution_count": 11,
      "outputs": [
        {
          "output_type": "stream",
          "name": "stdout",
          "text": [
            "1\n",
            "2\n",
            "4\n",
            "5\n",
            "3\n"
          ]
        }
      ]
    },
    {
      "cell_type": "code",
      "source": [
        "# Level order traversal\n",
        "\n",
        "from collections import deque\n",
        "\n",
        "def level_order_iterative(node):\n",
        "  q=deque()\n",
        "  q.append(node)\n",
        "\n",
        "  while q:\n",
        "    node=q.popleft()\n",
        "\n",
        "    print(node)\n",
        "\n",
        "    if node.left:\n",
        "      q.append(node.left)\n",
        "    if node.right:\n",
        "      q.append(node.right)\n",
        "\n",
        "level_order_iterative(A)"
      ],
      "metadata": {
        "colab": {
          "base_uri": "https://localhost:8080/"
        },
        "id": "tMhqPP9vq9cd",
        "outputId": "a024d82b-bd74-426f-ac53-dc8c80aae0d5"
      },
      "execution_count": 12,
      "outputs": [
        {
          "output_type": "stream",
          "name": "stdout",
          "text": [
            "1\n",
            "2\n",
            "3\n",
            "4\n",
            "5\n"
          ]
        }
      ]
    },
    {
      "cell_type": "code",
      "source": [
        "# Check if value exists (DFS) Time:O(n), Space: O(n)\n",
        "\n",
        "def search(node,target):\n",
        "  if node is None:\n",
        "    return False\n",
        "\n",
        "  if node.val==target:\n",
        "    return True\n",
        "\n",
        "  return search(node.left,target) or search(node.right,target)\n",
        "search(A,7)"
      ],
      "metadata": {
        "colab": {
          "base_uri": "https://localhost:8080/"
        },
        "id": "0OczMrX0rZ3c",
        "outputId": "5cb179f5-7dc9-4e43-f207-545b34a7cc02"
      },
      "execution_count": 23,
      "outputs": [
        {
          "output_type": "execute_result",
          "data": {
            "text/plain": [
              "False"
            ]
          },
          "metadata": {},
          "execution_count": 23
        }
      ]
    },
    {
      "cell_type": "code",
      "source": [
        "# Binary search trees"
      ],
      "metadata": {
        "id": "wzEU7FRysPo2"
      },
      "execution_count": null,
      "outputs": []
    },
    {
      "cell_type": "code",
      "source": [
        "\n",
        "A2=TreeNode(5)\n",
        "B2=TreeNode(1)\n",
        "C2=TreeNode(8)\n",
        "D2=TreeNode(-1)\n",
        "E2=TreeNode(3)\n",
        "F2=TreeNode(7)\n",
        "G2=TreeNode(9)\n",
        "\n",
        "A2.left,A2.right = B2,C2\n",
        "B2.left,B2.right = D2,E2\n",
        "C2.left,C2.right = F2,G2\n",
        "\n",
        "print(A2)"
      ],
      "metadata": {
        "colab": {
          "base_uri": "https://localhost:8080/"
        },
        "id": "oGDu_8LIsUvm",
        "outputId": "35931c9a-ecd8-43ec-88c5-a31c5a3547a9"
      },
      "execution_count": 26,
      "outputs": [
        {
          "output_type": "stream",
          "name": "stdout",
          "text": [
            "5\n"
          ]
        }
      ]
    },
    {
      "cell_type": "code",
      "source": [
        "in_order(A2)"
      ],
      "metadata": {
        "colab": {
          "base_uri": "https://localhost:8080/"
        },
        "id": "WUi8-GIes136",
        "outputId": "95fe038d-8c12-4ca3-abe2-ee4c7384c65a"
      },
      "execution_count": 27,
      "outputs": [
        {
          "output_type": "stream",
          "name": "stdout",
          "text": [
            "-1\n",
            "1\n",
            "3\n",
            "5\n",
            "7\n",
            "8\n",
            "9\n"
          ]
        }
      ]
    },
    {
      "cell_type": "code",
      "source": [
        "# time O(log n) , Space: O(log n)\n",
        "\n",
        "def search_bst(node,target):\n",
        "  if node is None:\n",
        "    return False\n",
        "\n",
        "  if node.val==target:\n",
        "    return True\n",
        "  elif node.val>target:\n",
        "    return search_bst(node.left,target)\n",
        "  else:\n",
        "    return search_bst(node.right,target)\n",
        "search_bst(A2,7)\n"
      ],
      "metadata": {
        "colab": {
          "base_uri": "https://localhost:8080/"
        },
        "id": "XGkcDI4Bs5I4",
        "outputId": "8bfcc624-e80e-46f2-e2e3-6d9f462d07b3"
      },
      "execution_count": 28,
      "outputs": [
        {
          "output_type": "execute_result",
          "data": {
            "text/plain": [
              "True"
            ]
          },
          "metadata": {},
          "execution_count": 28
        }
      ]
    }
  ]
}